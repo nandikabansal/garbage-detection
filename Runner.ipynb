{
 "cells": [
  {
   "cell_type": "code",
   "execution_count": 7,
   "metadata": {},
   "outputs": [],
   "source": [
    "from ultralytics import YOLO\n",
    "\n",
    "import os\n",
    "import shutil\n",
    "import cv2\n",
    "# Load the trained YOLOv8 model\n",
    "model = YOLO(\"D:/VIT/Garbage Dataset/best.pt\")  # Forward slashes\n"
   ]
  },
  {
   "cell_type": "code",
   "execution_count": 13,
   "metadata": {},
   "outputs": [
    {
     "name": "stdout",
     "output_type": "stream",
     "text": [
      "\n",
      "image 1/1 D:\\VIT\\Garbage Dataset\\content\\test\\images\\360_F_1035399369_vpYfZoqEpUNinI3fppu1nCIzjElM63jG.jpg: 448x640 (no detections), 366.0ms\n",
      "Speed: 15.6ms preprocess, 366.0ms inference, 3.6ms postprocess per image at shape (1, 3, 448, 640)\n",
      "Processed and saved: D:/VIT/Garbage Dataset/content/test/output\\360_F_1035399369_vpYfZoqEpUNinI3fppu1nCIzjElM63jG.jpg\n",
      "\n",
      "image 1/1 D:\\VIT\\Garbage Dataset\\content\\test\\images\\a-pile-of-garbage-bags-and-other-debris-on-the-side-of-the-road-environmental-disaster-the-collection-of-waste-for-recycling-2ATR725.jpg: 480x640 1 Plastic, 299.2ms\n",
      "Speed: 0.0ms preprocess, 299.2ms inference, 15.6ms postprocess per image at shape (1, 3, 480, 640)\n",
      "Processed and saved: D:/VIT/Garbage Dataset/content/test/output\\a-pile-of-garbage-bags-and-other-debris-on-the-side-of-the-road-environmental-disaster-the-collection-of-waste-for-recycling-2ATR725.jpg\n"
     ]
    },
    {
     "name": "stderr",
     "output_type": "stream",
     "text": [
      "C:\\Users\\Nandika\\AppData\\Local\\Temp\\ipykernel_6260\\3858175574.py:26: DeprecationWarning: Conversion of an array with ndim > 0 to a scalar is deprecated, and will error in future. Ensure you extract a single element from your array before performing this operation. (Deprecated NumPy 1.25.)\n",
      "  class_idx = int(bbox.cls.cpu().numpy())  # Get the class label index (numerical)\n"
     ]
    }
   ],
   "source": [
    "# Define the folder containing images\n",
    "input_folder = 'D:/VIT/Garbage Dataset/content/test/images'\n",
    "output_folder = 'D:/VIT/Garbage Dataset/content/test/output'\n",
    "output_folder_irr='D:/VIT/Garbage Dataset/content/test/output/nonrelevant'\n",
    "destination_folder='D:/VIT/Garbage Dataset/content/test/images/archive'\n",
    "target_categories = ['Plastic', 'Cigarette Butt', 'Metal Can', 'Paper', 'Cup']\n",
    "\n",
    "# Iterate through each image in the folder\n",
    "for filename in os.listdir(input_folder):\n",
    "    if filename.endswith(('.jpg', '.jpeg', '.png')):\n",
    "        image_path = os.path.join(input_folder, filename)\n",
    "        archive_image_path=os.path.join(destination_folder, filename)\n",
    "        output_image_path=os.path.join(output_folder, filename)\n",
    "   \n",
    "        # Run model on the image\n",
    "        results = model(image_path)\n",
    "        image = cv2.imread(image_path)  # Load the image\n",
    "       \n",
    "\n",
    "        a=0\n",
    "        for result in results:\n",
    "            # Access bounding box predictions\n",
    "            for bbox in result.boxes:\n",
    "                x1, y1, x2, y2 = bbox.xyxy[0].cpu().numpy()  # Bounding box coordinates\n",
    "                confidence = 100*(bbox.conf.cpu().numpy()) # Get the confidence score\n",
    "                class_idx = int(bbox.cls.cpu().numpy())  # Get the class label index (numerical)\n",
    "                class_name = model.names[class_idx]  # Get the class label name from the model's class names\n",
    "        \n",
    "                if (class_name in target_categories) and (confidence>50):\n",
    "                    a=a+1\n",
    "                    cv2.rectangle(image, (int(x1), int(y1)), (int(x2), int(y2)), (0, 255, 0), 2) # draw the bounding box on the image\n",
    "                    cv2.putText(image, f\"{class_name} {confidence}\", (int(x1), int(y1)-10), cv2.FONT_HERSHEY_SIMPLEX, 1, (0, 255, 0), 2)\n",
    "\n",
    "            if a>0:\n",
    "                cv2.imwrite(output_image_path, image)\n",
    "            \n",
    "        shutil.move(image_path, archive_image_path) # move the processed image from input folder to archive\n",
    "        print(f\"Processed and saved: {output_image_path}\")\n"
   ]
  },
  {
   "cell_type": "code",
   "execution_count": null,
   "metadata": {},
   "outputs": [],
   "source": [
    "import os\n",
    "import cv2\n",
    "from ultralytics import YOLO\n",
    "\n",
    "# Load the pretrained YOLOv8 model (e.g., 'yolov8n.pt' is the nano model)\n",
    "model = YOLO('runs/detect/train/weights/best.pt')  # Forward slashes\n",
    "\n",
    "# Open a connection to the webcam (0 is usually the default camera)\n",
    "cap = cv2.VideoCapture(0)\n",
    "\n",
    "# Check if the webcam is opened successfully\n",
    "if not cap.isOpened():\n",
    "    print(\"Error: Could not open webcam.\")\n",
    "    exit()\n",
    "\n",
    "# Iterate over frames from the webcam\n",
    "while True:\n",
    "    # Capture frame-by-frame\n",
    "    ret, frame = cap.read()\n",
    "    \n",
    "    # If the frame is read correctly, ret will be True\n",
    "    if not ret:\n",
    "        print(\"Error: Failed to capture image from webcam.\")\n",
    "        break\n",
    "\n",
    "    # Run YOLOv8 model on the current frame\n",
    "    results = model(frame)\n",
    "\n",
    "    # Get the image with bounding boxes and labels (in numpy array format)\n",
    "    result_image = results[0].plot()\n",
    "\n",
    "    # Display the resulting frame\n",
    "    cv2.imshow('YOLOv8 Webcam Output', result_image)\n",
    "\n",
    "    # Break the loop if the user presses the 'q' key\n",
    "    if cv2.waitKey(1) & 0xFF == ord('q'):\n",
    "        break\n",
    "\n",
    "# Release the webcam and close OpenCV windows\n",
    "cap.release()\n",
    "cv2.destroyAllWindows()\n",
    "\n",
    "print(\"Webcam processing complete!\")\n"
   ]
  }
 ],
 "metadata": {
  "kernelspec": {
   "display_name": "Python 3",
   "language": "python",
   "name": "python3"
  },
  "language_info": {
   "codemirror_mode": {
    "name": "ipython",
    "version": 3
   },
   "file_extension": ".py",
   "mimetype": "text/x-python",
   "name": "python",
   "nbconvert_exporter": "python",
   "pygments_lexer": "ipython3",
   "version": "3.12.2"
  }
 },
 "nbformat": 4,
 "nbformat_minor": 2
}
